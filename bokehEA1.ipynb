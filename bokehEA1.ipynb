{
 "cells": [
  {
   "cell_type": "code",
   "execution_count": 8,
   "metadata": {},
   "outputs": [],
   "source": [
    "from bokeh.plotting import figure, show, output_file\n",
    "from bokeh.transform import linear_cmap\n",
    "from bokeh.models import ColumnDataSource, ColorBar, HoverTool\n",
    "from bokeh.palettes import plasma\n",
    "import pandas as pd\n",
    "import numpy as np\n",
    "\n",
    "csv_file = \"C:/Users/tanis/Documents/Fall2023_4th_Sem/CS2613/Python/ExplorationActivity1/explorationactivity1-goldengomi/Water_pond_tanks_2021.csv\"\n",
    "\n",
    "# Read the CSV file into a DataFrame\n",
    "inputdf = pd.read_csv(csv_file, encoding='cp1252')\n",
    "\n",
    "# Select the pH (Max) column from the data\n",
    "pHMaxColumn = inputdf['pH (Max)']\n",
    "\n",
    "# Create a histogram\n",
    "hist, edges = np.histogram(pHMaxColumn, bins=20)\n",
    "\n",
    "# Create a new DataFrame for the histogram data\n",
    "hist_df = pd.DataFrame({'pH (Max)': hist, 'left': edges[:-1], 'right': edges[1:]})\n",
    "\n",
    "# Calculate the maximum value for each bar in the histogram to be used for the hover tool\n",
    "max_values = [pHMaxColumn[(pHMaxColumn >= left) & (pHMaxColumn <= right)].max() for left, right in zip(hist_df['left'], hist_df['right'])]\n",
    "hist_df['max_value'] = max_values\n",
    "\n",
    "# Create a ColumnDataSource from the histogram DataFrame\n",
    "source = ColumnDataSource(hist_df)\n",
    "\n",
    "# Create a Bokeh figure\n",
    "fig = figure(height=350, title=\"Max pH Level of Indian Water Bodies\")\n",
    "\n",
    "# Define a color map to format the histogram's colours\n",
    "colorMap = linear_cmap(field_name='pH (Max)', palette=plasma(20), low=min(hist), high=max(hist))\n",
    "\n",
    "# Add a quad glyph to represent the histogram bars\n",
    "fig.quad(top='pH (Max)', bottom=0, left='left', right='right', source=source,\n",
    "       fill_color=colorMap, line_color='white', legend_label='pH (Max)')\n",
    "\n",
    "# Create a HoverTool for an interactive feature\n",
    "hover = HoverTool()\n",
    "hover.tooltips = [(\"Max Value\", \"@max_value{0.00}\"), (\"Interval\", \"(@left, @right)\")]\n",
    "fig.add_tools(hover)\n",
    "\n",
    "# Add color bar\n",
    "colorBar = ColorBar(color_mapper=colorMap['transform'], width=8, location=(0,0))\n",
    "fig.add_layout(colorBar, 'right')\n",
    "\n",
    "# Customize the plot\n",
    "fig.xaxis.axis_label = \"pH (Max)\"\n",
    "fig.yaxis.axis_label = \"Frequency\"\n",
    "\n",
    "output_file(\"pHLevelHistogram.html\")\n",
    "show(fig)\n"
   ]
  }
 ],
 "metadata": {
  "kernelspec": {
   "display_name": "Python 3",
   "language": "python",
   "name": "python3"
  },
  "language_info": {
   "codemirror_mode": {
    "name": "ipython",
    "version": 3
   },
   "file_extension": ".py",
   "mimetype": "text/x-python",
   "name": "python",
   "nbconvert_exporter": "python",
   "pygments_lexer": "ipython3",
   "version": "3.11.5"
  }
 },
 "nbformat": 4,
 "nbformat_minor": 2
}
