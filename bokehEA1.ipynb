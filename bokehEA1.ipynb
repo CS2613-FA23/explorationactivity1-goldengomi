{
 "cells": [
  {
   "cell_type": "code",
   "execution_count": 64,
   "metadata": {},
   "outputs": [
    {
     "data": {
      "text/html": [
       "\n",
       "  <div id=\"c22f16bf-bca6-4b15-8891-4f7e67681db9\" data-root-id=\"p2798\" style=\"display: contents;\"></div>\n"
      ]
     },
     "metadata": {},
     "output_type": "display_data"
    },
    {
     "data": {
      "application/javascript": "(function(root) {\n  function embed_document(root) {\n  const docs_json = {\"7918f583-c817-456f-95b5-f0621b71c47e\":{\"version\":\"3.3.0\",\"title\":\"Bokeh Application\",\"roots\":[{\"type\":\"object\",\"name\":\"Figure\",\"id\":\"p2798\",\"attributes\":{\"height\":350,\"x_range\":{\"type\":\"object\",\"name\":\"DataRange1d\",\"id\":\"p2799\"},\"y_range\":{\"type\":\"object\",\"name\":\"DataRange1d\",\"id\":\"p2800\"},\"x_scale\":{\"type\":\"object\",\"name\":\"LinearScale\",\"id\":\"p2808\"},\"y_scale\":{\"type\":\"object\",\"name\":\"LinearScale\",\"id\":\"p2809\"},\"title\":{\"type\":\"object\",\"name\":\"Title\",\"id\":\"p2801\",\"attributes\":{\"text\":\"Max pH Level of Indian Water Bodies\"}},\"renderers\":[{\"type\":\"object\",\"name\":\"GlyphRenderer\",\"id\":\"p2834\",\"attributes\":{\"data_source\":{\"type\":\"object\",\"name\":\"ColumnDataSource\",\"id\":\"p2795\",\"attributes\":{\"selected\":{\"type\":\"object\",\"name\":\"Selection\",\"id\":\"p2796\",\"attributes\":{\"indices\":[],\"line_indices\":[]}},\"selection_policy\":{\"type\":\"object\",\"name\":\"UnionRenderers\",\"id\":\"p2797\"},\"data\":{\"type\":\"map\",\"entries\":[[\"index\",{\"type\":\"ndarray\",\"array\":{\"type\":\"bytes\",\"data\":\"AAAAAAEAAAACAAAAAwAAAAQAAAAFAAAABgAAAAcAAAAIAAAACQAAAAoAAAALAAAADAAAAA0AAAAOAAAADwAAABAAAAARAAAAEgAAABMAAAA=\"},\"shape\":[20],\"dtype\":\"int32\",\"order\":\"little\"}],[\"pH (Max)\",{\"type\":\"ndarray\",\"array\":{\"type\":\"bytes\",\"data\":\"AgAAAAUAAAALAAAAMwAAAFgAAAAnAAAAXgAAAFAAAABMAAAAMwAAAEgAAAAQAAAAEgAAAAYAAAAFAAAABQAAAAAAAAAAAAAAAAAAAAEAAAA=\"},\"shape\":[20],\"dtype\":\"int32\",\"order\":\"little\"}],[\"left\",{\"type\":\"ndarray\",\"array\":{\"type\":\"bytes\",\"data\":\"zczMzMzMGkCF61G4HoUbQD4K16NwPRxA9ihcj8L1HECuR+F6FK4dQGdmZmZmZh5AH4XrUbgeH0DYo3A9CtcfQEjhehSuRyBApHA9CtejIEAAAAAAAAAhQFyPwvUoXCFAuB6F61G4IUAVrkfhehQiQHE9CtejcCJAzczMzMzMIkApXI/C9SgjQIbrUbgehSNA4noUrkfhI0A+CtejcD0kQA==\"},\"shape\":[20],\"dtype\":\"float64\",\"order\":\"little\"}],[\"right\",{\"type\":\"ndarray\",\"array\":{\"type\":\"bytes\",\"data\":\"hetRuB6FG0A+CtejcD0cQPYoXI/C9RxArkfhehSuHUBnZmZmZmYeQB+F61G4Hh9A2KNwPQrXH0BI4XoUrkcgQKRwPQrXoyBAAAAAAAAAIUBcj8L1KFwhQLgehetRuCFAFa5H4XoUIkBxPQrXo3AiQM3MzMzMzCJAKVyPwvUoI0CG61G4HoUjQOJ6FK5H4SNAPgrXo3A9JECamZmZmZkkQA==\"},\"shape\":[20],\"dtype\":\"float64\",\"order\":\"little\"}],[\"max_value\",{\"type\":\"ndarray\",\"array\":{\"type\":\"bytes\",\"data\":\"MzMzMzMzG0AAAAAAAAAcQM3MzMzMzBxAmpmZmZmZHUBmZmZmZmYeQM3MzMzMzB5AmpmZmZmZH0AzMzMzMzMgQJqZmZmZmSBAAAAAAAAAIUAzMzMzMzMhQJqZmZmZmSFAAAAAAAAAIkBmZmZmZmYiQM3MzMzMzCJAAAAAAAAAI0AAAAAAAAD4fwAAAAAAAPh/AAAAAAAA+H+amZmZmZkkQA==\"},\"shape\":[20],\"dtype\":\"float64\",\"order\":\"little\"}]]}}},\"view\":{\"type\":\"object\",\"name\":\"CDSView\",\"id\":\"p2835\",\"attributes\":{\"filter\":{\"type\":\"object\",\"name\":\"AllIndices\",\"id\":\"p2836\"}}},\"glyph\":{\"type\":\"object\",\"name\":\"Quad\",\"id\":\"p2831\",\"attributes\":{\"left\":{\"type\":\"field\",\"field\":\"left\"},\"right\":{\"type\":\"field\",\"field\":\"right\"},\"bottom\":{\"type\":\"value\",\"value\":0},\"top\":{\"type\":\"field\",\"field\":\"pH (Max)\"},\"line_color\":{\"type\":\"value\",\"value\":\"white\"},\"fill_color\":{\"type\":\"field\",\"field\":\"pH (Max)\",\"transform\":{\"type\":\"object\",\"name\":\"LinearColorMapper\",\"id\":\"p2827\",\"attributes\":{\"palette\":[\"#0C0786\",\"#2B0594\",\"#42039D\",\"#5901A4\",\"#6D00A8\",\"#8204A7\",\"#9511A1\",\"#A51F97\",\"#B62F8B\",\"#C33E7F\",\"#D14E72\",\"#DC5D66\",\"#E66D5A\",\"#EF7D4F\",\"#F68E44\",\"#FBA238\",\"#FDB52D\",\"#FCCB25\",\"#F7E024\",\"#EFF821\"],\"low\":0,\"high\":94}}}}},\"nonselection_glyph\":{\"type\":\"object\",\"name\":\"Quad\",\"id\":\"p2832\",\"attributes\":{\"left\":{\"type\":\"field\",\"field\":\"left\"},\"right\":{\"type\":\"field\",\"field\":\"right\"},\"bottom\":{\"type\":\"value\",\"value\":0},\"top\":{\"type\":\"field\",\"field\":\"pH (Max)\"},\"line_color\":{\"type\":\"value\",\"value\":\"white\"},\"line_alpha\":{\"type\":\"value\",\"value\":0.1},\"fill_color\":{\"type\":\"field\",\"field\":\"pH (Max)\",\"transform\":{\"id\":\"p2827\"}},\"fill_alpha\":{\"type\":\"value\",\"value\":0.1},\"hatch_alpha\":{\"type\":\"value\",\"value\":0.1}}},\"muted_glyph\":{\"type\":\"object\",\"name\":\"Quad\",\"id\":\"p2833\",\"attributes\":{\"left\":{\"type\":\"field\",\"field\":\"left\"},\"right\":{\"type\":\"field\",\"field\":\"right\"},\"bottom\":{\"type\":\"value\",\"value\":0},\"top\":{\"type\":\"field\",\"field\":\"pH (Max)\"},\"line_color\":{\"type\":\"value\",\"value\":\"white\"},\"line_alpha\":{\"type\":\"value\",\"value\":0.2},\"fill_color\":{\"type\":\"field\",\"field\":\"pH (Max)\",\"transform\":{\"id\":\"p2827\"}},\"fill_alpha\":{\"type\":\"value\",\"value\":0.2},\"hatch_alpha\":{\"type\":\"value\",\"value\":0.2}}}}}],\"toolbar\":{\"type\":\"object\",\"name\":\"Toolbar\",\"id\":\"p2807\",\"attributes\":{\"tools\":[{\"type\":\"object\",\"name\":\"PanTool\",\"id\":\"p2820\"},{\"type\":\"object\",\"name\":\"WheelZoomTool\",\"id\":\"p2821\",\"attributes\":{\"renderers\":\"auto\"}},{\"type\":\"object\",\"name\":\"BoxZoomTool\",\"id\":\"p2822\",\"attributes\":{\"overlay\":{\"type\":\"object\",\"name\":\"BoxAnnotation\",\"id\":\"p2823\",\"attributes\":{\"syncable\":false,\"level\":\"overlay\",\"visible\":false,\"left_units\":\"canvas\",\"right_units\":\"canvas\",\"top_units\":\"canvas\",\"bottom_units\":\"canvas\",\"line_color\":\"black\",\"line_alpha\":1.0,\"line_width\":2,\"line_dash\":[4,4],\"fill_color\":\"lightgrey\",\"fill_alpha\":0.5}}}},{\"type\":\"object\",\"name\":\"SaveTool\",\"id\":\"p2824\"},{\"type\":\"object\",\"name\":\"ResetTool\",\"id\":\"p2825\"},{\"type\":\"object\",\"name\":\"HelpTool\",\"id\":\"p2826\"},{\"type\":\"object\",\"name\":\"HoverTool\",\"id\":\"p2839\",\"attributes\":{\"renderers\":\"auto\",\"tooltips\":[[\"Max Value\",\"@max_value{0.00}\"],[\"Interval\",\"(@left, @right)\"]]}}]}},\"left\":[{\"type\":\"object\",\"name\":\"LinearAxis\",\"id\":\"p2815\",\"attributes\":{\"ticker\":{\"type\":\"object\",\"name\":\"BasicTicker\",\"id\":\"p2816\",\"attributes\":{\"mantissas\":[1,2,5]}},\"formatter\":{\"type\":\"object\",\"name\":\"BasicTickFormatter\",\"id\":\"p2817\"},\"axis_label\":\"Frequency\",\"major_label_policy\":{\"type\":\"object\",\"name\":\"AllLabels\",\"id\":\"p2818\"}}}],\"right\":[{\"type\":\"object\",\"name\":\"ColorBar\",\"id\":\"p2840\",\"attributes\":{\"location\":[0,0],\"width\":8,\"major_label_policy\":{\"type\":\"object\",\"name\":\"NoOverlap\",\"id\":\"p2841\"},\"color_mapper\":{\"id\":\"p2827\"}}}],\"below\":[{\"type\":\"object\",\"name\":\"LinearAxis\",\"id\":\"p2810\",\"attributes\":{\"ticker\":{\"type\":\"object\",\"name\":\"BasicTicker\",\"id\":\"p2811\",\"attributes\":{\"mantissas\":[1,2,5]}},\"formatter\":{\"type\":\"object\",\"name\":\"BasicTickFormatter\",\"id\":\"p2812\"},\"axis_label\":\"pH (Max)\",\"major_label_policy\":{\"type\":\"object\",\"name\":\"AllLabels\",\"id\":\"p2813\"}}}],\"center\":[{\"type\":\"object\",\"name\":\"Grid\",\"id\":\"p2814\",\"attributes\":{\"axis\":{\"id\":\"p2810\"}}},{\"type\":\"object\",\"name\":\"Grid\",\"id\":\"p2819\",\"attributes\":{\"dimension\":1,\"axis\":{\"id\":\"p2815\"}}},{\"type\":\"object\",\"name\":\"Legend\",\"id\":\"p2837\",\"attributes\":{\"items\":[{\"type\":\"object\",\"name\":\"LegendItem\",\"id\":\"p2838\",\"attributes\":{\"label\":{\"type\":\"value\",\"value\":\"pH (Max)\"},\"renderers\":[{\"id\":\"p2834\"}]}}]}}]}}]}};\n  const render_items = [{\"docid\":\"7918f583-c817-456f-95b5-f0621b71c47e\",\"roots\":{\"p2798\":\"c22f16bf-bca6-4b15-8891-4f7e67681db9\"},\"root_ids\":[\"p2798\"]}];\n  root.Bokeh.embed.embed_items_notebook(docs_json, render_items);\n  }\n  if (root.Bokeh !== undefined) {\n    embed_document(root);\n  } else {\n    let attempts = 0;\n    const timer = setInterval(function(root) {\n      if (root.Bokeh !== undefined) {\n        clearInterval(timer);\n        embed_document(root);\n      } else {\n        attempts++;\n        if (attempts > 100) {\n          clearInterval(timer);\n          console.log(\"Bokeh: ERROR: Unable to run BokehJS code because BokehJS library is missing\");\n        }\n      }\n    }, 10, root)\n  }\n})(window);",
      "application/vnd.bokehjs_exec.v0+json": ""
     },
     "metadata": {
      "application/vnd.bokehjs_exec.v0+json": {
       "id": "p2798"
      }
     },
     "output_type": "display_data"
    }
   ],
   "source": [
    "from bokeh.plotting import figure, show, output_file\n",
    "from bokeh.transform import linear_cmap\n",
    "from bokeh.models import ColumnDataSource, ColorBar\n",
    "from bokeh.palettes import plasma\n",
    "import pandas as pd\n",
    "\n",
    "csv_file = \"C:/Users/tanis/Documents/Fall2023_4th_Sem/CS2613/Python/ExplorationActivity1/explorationactivity1-goldengomi/Water_pond_tanks_2021.csv\"\n",
    "\n",
    "# Read the CSV file into a DataFrame\n",
    "inputdf = pd.read_csv(csv_file, encoding='cp1252')\n",
    "\n",
    "# Select the pH (Max) column from the data\n",
    "pHMaxColumn = inputdf['pH (Max)']\n",
    "\n",
    "# Create a histogram\n",
    "hist, edges = np.histogram(pHMaxColumn, bins=20)\n",
    "\n",
    "# Create a new DataFrame for the histogram data\n",
    "hist_df = pd.DataFrame({'pH (Max)': hist, 'left': edges[:-1], 'right': edges[1:]})\n",
    "\n",
    "# Calculate the maximum value for each bar in the histogram to be used for the hover tool\n",
    "max_values = [pHMaxColumn[(pHMaxColumn >= left) & (pHMaxColumn <= right)].max() for left, right in zip(hist_df['left'], hist_df['right'])]\n",
    "hist_df['max_value'] = max_values\n",
    "\n",
    "# Create a ColumnDataSource from the histogram DataFrame\n",
    "source = ColumnDataSource(hist_df)\n",
    "\n",
    "# Create a Bokeh figure\n",
    "fig = figure(height=350, title=\"Max pH Level of Indian Water Bodies\")\n",
    "\n",
    "# Define a color map to format the histogram's colours\n",
    "colorMap = linear_cmap(field_name='pH (Max)', palette=plasma(20), low=min(hist), high=max(hist))\n",
    "\n",
    "# Add a quad glyph to represent the histogram bars\n",
    "fig.quad(top='pH (Max)', bottom=0, left='left', right='right', source=source,\n",
    "       fill_color=colorMap, line_color='white', legend_label='pH (Max)')\n",
    "\n",
    "# Create a HoverTool for an interactive feature\n",
    "hover = HoverTool()\n",
    "hover.tooltips = [(\"Max Value\", \"@max_value{0.00}\"), (\"Interval\", \"(@left, @right)\")]\n",
    "fig.add_tools(hover)\n",
    "\n",
    "# Add color bar\n",
    "colorBar = ColorBar(color_mapper=colorMap['transform'], width=8, location=(0,0))\n",
    "fig.add_layout(colorBar, 'right')\n",
    "\n",
    "# Customize the plot\n",
    "fig.xaxis.axis_label = \"pH (Max)\"\n",
    "fig.yaxis.axis_label = \"Frequency\"\n",
    "\n",
    "output_file(\"pHLevelHistogram.html\")\n",
    "show(fig)\n"
   ]
  }
 ],
 "metadata": {
  "language_info": {
   "name": "python"
  }
 },
 "nbformat": 4,
 "nbformat_minor": 2
}
